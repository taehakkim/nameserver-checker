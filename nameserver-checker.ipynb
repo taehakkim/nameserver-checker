{
 "cells": [
  {
   "cell_type": "code",
   "execution_count": 3,
   "id": "97d670bb-2490-48b6-ab2d-80368ea8e8c5",
   "metadata": {},
   "outputs": [
    {
     "name": "stdout",
     "output_type": "stream",
     "text": [
      "Requirement already satisfied: dnspython in c:\\users\\cholong han\\appdata\\local\\programs\\python\\python312\\lib\\site-packages (2.7.0)\n",
      "Note: you may need to restart the kernel to use updated packages.\n"
     ]
    },
    {
     "name": "stderr",
     "output_type": "stream",
     "text": [
      "\n",
      "[notice] A new release of pip is available: 24.3.1 -> 25.1.1\n",
      "[notice] To update, run: python.exe -m pip install --upgrade pip\n"
     ]
    }
   ],
   "source": [
    "pip install dnspython\n"
   ]
  },
  {
   "cell_type": "code",
   "execution_count": 2,
   "id": "4a068cf1-b2c1-4987-9045-2d48aeb6d60a",
   "metadata": {},
   "outputs": [
    {
     "name": "stdout",
     "output_type": "stream",
     "text": [
      "Nameservers for google.com: ['ns1.google.com.', 'ns3.google.com.', 'ns2.google.com.', 'ns4.google.com.']\n"
     ]
    }
   ],
   "source": [
    "import dns.resolver\n",
    "\n",
    "def get_nameservers(domain):\n",
    "    try:\n",
    "        answers = dns.resolver.resolve(domain, 'NS')\n",
    "        ns_records = [rdata.to_text() for rdata in answers]\n",
    "        return ns_records\n",
    "    except Exception as e:\n",
    "        print(f\"Error: {e}\")\n",
    "        return []\n",
    "\n",
    "domain = \"google.com\"\n",
    "nameservers = get_nameservers(domain)\n",
    "print(f\"Nameservers for {domain}: {nameservers}\")\n"
   ]
  }
 ],
 "metadata": {
  "kernelspec": {
   "display_name": "Python 3 (ipykernel)",
   "language": "python",
   "name": "python3"
  },
  "language_info": {
   "codemirror_mode": {
    "name": "ipython",
    "version": 3
   },
   "file_extension": ".py",
   "mimetype": "text/x-python",
   "name": "python",
   "nbconvert_exporter": "python",
   "pygments_lexer": "ipython3",
   "version": "3.12.8"
  }
 },
 "nbformat": 4,
 "nbformat_minor": 5
}
